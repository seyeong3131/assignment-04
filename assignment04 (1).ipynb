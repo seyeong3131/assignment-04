{
 "cells": [
  {
   "cell_type": "code",
   "execution_count": 63,
   "metadata": {},
   "outputs": [],
   "source": [
    "import random\n",
    "import numpy as np\n",
    "import matplotlib.pyplot as plt\n",
    "\n",
    "%matplotlib inline"
   ]
  },
  {
   "cell_type": "code",
   "execution_count": 64,
   "metadata": {},
   "outputs": [],
   "source": [
    "def parse(x):\n",
    "    \"\"\"\n",
    "    Parsing Reads to tuple (label,data)\n",
    "    \"\"\"\n",
    "    digit = x.split(\",\")\n",
    "    return (digit[0], np.asfarray(digit[1:]))"
   ]
  },
  {
   "cell_type": "code",
   "execution_count": 65,
   "metadata": {},
   "outputs": [],
   "source": [
    "# data load from minist_test.csv\n",
    "with open(\"mnist_test.csv\",\"r\") as f:\n",
    "    digits = list(map(parse, f.readlines()))"
   ]
  },
  {
   "cell_type": "code",
   "execution_count": 75,
   "metadata": {},
   "outputs": [],
   "source": [
    "ratio = int(len(digits)*0.25)\n",
    "validation = digits[:ratio]\n",
    "training = digits"
   ]
  },
  {
   "cell_type": "code",
   "execution_count": 77,
   "metadata": {},
   "outputs": [],
   "source": [
    "\n",
    "def computeDistance(a, b):\n",
    "    \"\"\"\n",
    "    calculate the vector distance\n",
    "    \"\"\"\n",
    "    return np.sqrt(np.sum((a-b)**2))\n",
    "    \n",
    "def init_centroids(labelled_data,k):\n",
    "    \"\"\"\n",
    "    Generates the first number of center points randomly k.\n",
    "    \"\"\"\n",
    "    return list(map(lambda x: x[1], random.sample(labelled_data, k)))\n",
    "\n",
    "def sum_cluster(labelled_cluster):\n",
    "    \"\"\"\n",
    "    Function to add cluster vector values\n",
    "    \"\"\"\n",
    "    # assumes len(cluster) > 0\n",
    "    sum_ = labelled_cluster[0][1].copy()\n",
    "    for (label,vector) in labelled_cluster[1:]:\n",
    "        sum_ += vector\n",
    "    return sum_\n",
    "\n",
    "def mean_cluster(labelled_cluster):\n",
    "    \"\"\"\n",
    "    Add the cluster vector and obtain the center value..\n",
    "    \"\"\"\n",
    "    sum_of_points = sum_cluster(labelled_cluster)\n",
    "    mean_of_points = sum_of_points * (1.0 / len(labelled_cluster))\n",
    "    return mean_of_points"
   ]
  },
  {
   "cell_type": "code",
   "execution_count": 78,
   "metadata": {},
   "outputs": [],
   "source": [
    "def assignLabels(labelled_data, unlabelled_centroids):\n",
    "    \"\"\"\n",
    "    Clustering physical data at the center point.\n",
    "    Assign to same cluster as near center point\n",
    "    \"\"\"\n",
    "    # enumerate because centroids are arrays which are unhashable,\n",
    "    centroids_indices = range(len(unlabelled_centroids))\n",
    "    \n",
    "    \n",
    "    clusters = {c: [] for c in centroids_indices}\n",
    "    \n",
    "    for (label,Xi) in labelled_data:\n",
    "        # for each datapoint, pick the closest centroid.\n",
    "        smallest_distance = float(\"inf\")\n",
    "        for cj_index in centroids_indices:\n",
    "            cj = unlabelled_centroids[cj_index]\n",
    "            distance = computeDistance(Xi, cj)\n",
    "            if distance < smallest_distance:\n",
    "                closest_centroid_index = cj_index\n",
    "                smallest_distance = distance\n",
    "        # allocate that datapoint to the cluster of that centroid.\n",
    "        clusters[closest_centroid_index].append((label,Xi))\n",
    "        \n",
    "    return list(clusters.values())\n",
    "\n",
    "def computeCentroid(labelled_clusters):\n",
    "    \"\"\"\n",
    "    Locate the center point within each cluster.\n",
    "    \"\"\"\n",
    "    new_centroids = []\n",
    "    for cluster in labelled_clusters:\n",
    "        new_centroids.append(mean_cluster(cluster))\n",
    "    return new_centroids\n",
    "\n",
    "def repeat_until_convergence(labelled_data, labelled_clusters, unlabelled_centroids):\n",
    "    \"\"\"\n",
    "    Continue to move the center point and proceed with clustering.\n",
    "    Continue until the newly created center point and the previous center point are similar.\n",
    "    \"\"\"\n",
    "    previous_max_difference = 0\n",
    "    while True:\n",
    "        unlabelled_old_centroids = unlabelled_centroids\n",
    "        unlabelled_centroids = computeCentroid(labelled_clusters)\n",
    "        labelled_clusters = assignLabels(labelled_data, unlabelled_centroids)\n",
    "        # Calculate the difference between the newly created center point and the previous center point\n",
    "        # If the difference is small, do not calculate any more and return the value.\n",
    "        differences = list(map(lambda a, b: computeDistance(a, b), unlabelled_old_centroids,unlabelled_centroids))\n",
    "\n",
    "        max_difference = max(differences)\n",
    "        difference_change = abs((max_difference - previous_max_difference) / np.mean([previous_max_difference, max_difference])) * 100\n",
    "        previous_max_difference = max_difference\n",
    "        \n",
    "        if np.isnan(difference_change):\n",
    "            break\n",
    "            \n",
    "    return labelled_clusters, unlabelled_centroids"
   ]
  },
  {
   "cell_type": "code",
   "execution_count": 87,
   "metadata": {},
   "outputs": [],
   "source": [
    "def kmeans(labelled_data, k):\n",
    "    \"\"\"\n",
    "    k means algorithm\n",
    "    Randomize the center point, assign the cluster to the newly created center point. \n",
    "    Continue until there is no difference between the new center points.\n",
    "    \"\"\"\n",
    "    # Init centroid and assign cluster to labels\n",
    "    centroids = init_centroids(labelled_data, k)\n",
    "    clusters = assignLabels(labelled_data, centroids)\n",
    "    \n",
    "    final_clusters, final_centroids = repeat_until_convergence(labelled_data, clusters, centroids)\n",
    "    labelled_centroids = assign_labels_to_centroids(final_clusters, final_centroids)    \n",
    "    return labelled_centroids"
   ]
  },
  {
   "cell_type": "code",
   "execution_count": 88,
   "metadata": {},
   "outputs": [],
   "source": [
    "def assign_labels_to_centroids(clusters, centroids):\n",
    "    \"\"\"\n",
    "    A function that associates the center point created from the data with the actual label (number).\n",
    "    Locate the label(number) of the generated center point.\n",
    "    \"\"\"\n",
    "    \n",
    "    labelled_centroids = []\n",
    "    for i in range(len(clusters)):\n",
    "        labels = list(map(lambda x: x[0], clusters[i]))\n",
    "        # pick the most common label\n",
    "        most_common = max(set(labels), key=labels.count)\n",
    "        centroid = (most_common, centroids[i])\n",
    "        labelled_centroids.append(centroid)\n",
    "    return labelled_centroids"
   ]
  },
  {
   "cell_type": "code",
   "execution_count": 89,
   "metadata": {},
   "outputs": [],
   "source": [
    "def classify_digit(digit, labelled_centroids):\n",
    "    \"\"\"\n",
    "    given an unlabelled digit represented by a vector and a list of\n",
    "    labelled centroids [(label,vector)], determine the closest centroid\n",
    "    and thus classify the digit.\n",
    "    \"\"\"\n",
    "    mindistance = float(\"inf\")\n",
    "    for (label, centroid) in labelled_centroids:\n",
    "        distance = computeDistance(centroid, digit)\n",
    "        if distance < mindistance:\n",
    "            mindistance = distance\n",
    "            closest_centroid_label = label\n",
    "            \n",
    "    return closest_centroid_label\n",
    "\n",
    "def computeAccuracy(digits, labelled_centroids):\n",
    "    \"\"\"\n",
    "    classifies a list of labelled digits. returns the error rate.\n",
    "    \"\"\"\n",
    "    classified_incorrect = 0\n",
    "    for (label,digit) in digits:\n",
    "        classified_label = classify_digit(digit, labelled_centroids)\n",
    "        if classified_label != label:\n",
    "            classified_incorrect +=1\n",
    "    error_rate = classified_incorrect / float(len(digits))\n",
    "    \n",
    "    return error_rate\n",
    "\n"
   ]
  },
  {
   "cell_type": "code",
   "execution_count": 90,
   "metadata": {},
   "outputs": [
    {
     "name": "stderr",
     "output_type": "stream",
     "text": [
      "D:\\Anaconda3\\lib\\site-packages\\ipykernel_launcher.py:55: RuntimeWarning: invalid value encountered in double_scalars\n"
     ]
    },
    {
     "name": "stdout",
     "output_type": "stream",
     "text": [
      "#####################\n",
      "Accuracy is  0.6078\n",
      "Error rate is  0.3922\n",
      "#####################\n"
     ]
    }
   ],
   "source": [
    "k = 10\n",
    "labelled_centroids = kmeans(training, k) # compute k means algorithm\n",
    "accuracy = computeAccuracy(training, labelled_centroids)\n",
    "\n",
    "print(\"#####################\")\n",
    "print(\"Accuracy is \", 1 - accuracy)\n",
    "print(\"Error rate is \", accuracy)\n",
    "print(\"#####################\")\n"
   ]
  },
  {
   "cell_type": "code",
   "execution_count": null,
   "metadata": {},
   "outputs": [],
   "source": [
    "\"\"\"\n",
    "GIT HUB ADDRESS : https://github.com/seyeong3131/assignment-04.git\n",
    "\"\"\""
   ]
  }
 ],
 "metadata": {
  "kernelspec": {
   "display_name": "Python 3",
   "language": "python",
   "name": "python3"
  },
  "language_info": {
   "codemirror_mode": {
    "name": "ipython",
    "version": 3
   },
   "file_extension": ".py",
   "mimetype": "text/x-python",
   "name": "python",
   "nbconvert_exporter": "python",
   "pygments_lexer": "ipython3",
   "version": "3.6.5"
  }
 },
 "nbformat": 4,
 "nbformat_minor": 1
}
